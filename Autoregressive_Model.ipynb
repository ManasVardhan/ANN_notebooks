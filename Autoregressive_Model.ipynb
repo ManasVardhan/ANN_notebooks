{
  "nbformat": 4,
  "nbformat_minor": 0,
  "metadata": {
    "colab": {
      "name": "Autoregressive Model.ipynb",
      "provenance": [],
      "authorship_tag": "ABX9TyOiEWxpV8KgJHjp+gcx+iEy",
      "include_colab_link": true
    },
    "kernelspec": {
      "name": "python3",
      "display_name": "Python 3"
    },
    "accelerator": "GPU"
  },
  "cells": [
    {
      "cell_type": "markdown",
      "metadata": {
        "id": "view-in-github",
        "colab_type": "text"
      },
      "source": [
        "<a href=\"https://colab.research.google.com/github/ManasVardhan/ANN_notebooks/blob/master/Autoregressive_Model.ipynb\" target=\"_parent\"><img src=\"https://colab.research.google.com/assets/colab-badge.svg\" alt=\"Open In Colab\"/></a>"
      ]
    },
    {
      "cell_type": "code",
      "metadata": {
        "colab": {
          "base_uri": "https://localhost:8080/",
          "height": 54
        },
        "id": "1LDYhQ5e1hLH",
        "outputId": "53b92d1f-83a2-4653-e73b-0c0af9eeee5c"
      },
      "source": [
        "'''\n",
        "This is an implementation of Auto Regressive Linear model using tensorflow\n",
        "Autoregressive model means a model that makes use of its own predicted values\n",
        "to make predictions of future values\n",
        "'''"
      ],
      "execution_count": null,
      "outputs": [
        {
          "output_type": "execute_result",
          "data": {
            "application/vnd.google.colaboratory.intrinsic+json": {
              "type": "string"
            },
            "text/plain": [
              "'\\nThis is an implementation of Auto Regressive Linear model using tensorflow\\nAutoregressive model means a model that makes use of its own predicted values\\nto make predictions of future values\\n'"
            ]
          },
          "metadata": {
            "tags": []
          },
          "execution_count": 16
        }
      ]
    },
    {
      "cell_type": "code",
      "metadata": {
        "id": "oF6sh33f15fj"
      },
      "source": [
        "import tensorflow as tf"
      ],
      "execution_count": null,
      "outputs": []
    },
    {
      "cell_type": "code",
      "metadata": {
        "colab": {
          "base_uri": "https://localhost:8080/",
          "height": 283
        },
        "id": "Gky9ZbDM2Ai2",
        "outputId": "3f2d3987-df1e-47c0-e320-4346ad0300f5"
      },
      "source": [
        "#creating a dataset\n",
        "import numpy as np\n",
        "import matplotlib.pyplot as plt\n",
        "\n",
        "\n",
        "series = np.sin(0.1*np.arange(200)) + 0.1*np.random.randn(200)\n",
        "plt.plot(series)\n",
        "\n"
      ],
      "execution_count": null,
      "outputs": [
        {
          "output_type": "execute_result",
          "data": {
            "text/plain": [
              "[<matplotlib.lines.Line2D at 0x7fc3c4d49898>]"
            ]
          },
          "metadata": {
            "tags": []
          },
          "execution_count": 43
        },
        {
          "output_type": "display_data",
          "data": {
            "image/png": "[encoded data removed]",
            "text/plain": [
              "<Figure size 432x288 with 1 Axes>"
            ]
          },
          "metadata": {
            "tags": [],
            "needs_background": "light"
          }
        }
      ]
    },
    {
      "cell_type": "code",
      "metadata": {
        "colab": {
          "base_uri": "https://localhost:8080/"
        },
        "id": "p5-GdLyT6BXe",
        "outputId": "d466a099-baa1-45bd-bed2-3b714842b2a8"
      },
      "source": [
        "#building the dataset\n",
        "T = 10\n",
        "X = []\n",
        "Y = []\n",
        "for t in range(len(series) - T):\n",
        "  x = series[t:t+T]      \n",
        "  y = series[t+T]\n",
        "  X.append(x)\n",
        "  Y.append(y)\n",
        "\n",
        "X = np.array(X).reshape(-1,T)\n",
        "Y = np.array(Y)\n",
        "N = len(X)\n",
        "\n",
        "print('Shape of X {} \\nShape of Y {}'.format(X.shape,Y.shape))"
      ],
      "execution_count": null,
      "outputs": [
        {
          "output_type": "stream",
          "text": [
            "Shape of X (190, 10) \n",
            "Shape of Y (190,)\n"
          ],
          "name": "stdout"
        }
      ]
    },
    {
      "cell_type": "code",
      "metadata": {
        "colab": {
          "base_uri": "https://localhost:8080/"
        },
        "id": "4pRgM5K37vkX",
        "outputId": "b6445c00-adb5-47d3-8e4f-2b4aa78d9cb3"
      },
      "source": [
        "model = tf.keras.Sequential([\n",
        "                     tf.keras.layers.Input(shape=(T,)),\n",
        "                     tf.keras.layers.Dense(1)\n",
        "                     \n",
        "])\n",
        "\n",
        "model.compile(loss='mse',optimizer=tf.keras.optimizers.Adam(lr=0.1),)\n",
        "model.summary()"
      ],
      "execution_count": null,
      "outputs": [
        {
          "output_type": "stream",
          "text": [
            "Model: \"sequential_3\"\n",
            "_________________________________________________________________\n",
            "Layer (type)                 Output Shape              Param #   \n",
            "=================================================================\n",
            "dense_3 (Dense)              (None, 1)                 11        \n",
            "=================================================================\n",
            "Total params: 11\n",
            "Trainable params: 11\n",
            "Non-trainable params: 0\n",
            "_________________________________________________________________\n"
          ],
          "name": "stdout"
        }
      ]
    },
    {
      "cell_type": "code",
      "metadata": {
        "colab": {
          "base_uri": "https://localhost:8080/"
        },
        "id": "fnEEufp0-cs8",
        "outputId": "605085fb-6d67-43fe-a872-f40bbfd8dead"
      },
      "source": [
        "#training the model\n",
        "r = model.fit(X[:-N//2],Y[:-N//2],epochs = 80,validation_data=(X[-N//2:],Y[-N//2:]))"
      ],
      "execution_count": null,
      "outputs": [
        {
          "output_type": "stream",
          "text": [
            "Epoch 1/80\n",
            "3/3 [==============================] - 0s 29ms/step - loss: 0.1396 - val_loss: 0.0668\n",
            "Epoch 2/80\n",
            "3/3 [==============================] - 0s 8ms/step - loss: 0.0618 - val_loss: 0.0328\n",
            "Epoch 3/80\n",
            "3/3 [==============================] - 0s 7ms/step - loss: 0.0569 - val_loss: 0.0452\n",
            "Epoch 4/80\n",
            "3/3 [==============================] - 0s 7ms/step - loss: 0.0454 - val_loss: 0.0525\n",
            "Epoch 5/80\n",
            "3/3 [==============================] - 0s 7ms/step - loss: 0.0386 - val_loss: 0.0430\n",
            "Epoch 6/80\n",
            "3/3 [==============================] - 0s 7ms/step - loss: 0.0383 - val_loss: 0.0365\n",
            "Epoch 7/80\n",
            "3/3 [==============================] - 0s 7ms/step - loss: 0.0294 - val_loss: 0.0286\n",
            "Epoch 8/80\n",
            "3/3 [==============================] - 0s 8ms/step - loss: 0.0241 - val_loss: 0.0264\n",
            "Epoch 9/80\n",
            "3/3 [==============================] - 0s 8ms/step - loss: 0.0273 - val_loss: 0.0277\n",
            "Epoch 10/80\n",
            "3/3 [==============================] - 0s 7ms/step - loss: 0.0276 - val_loss: 0.0272\n",
            "Epoch 11/80\n",
            "3/3 [==============================] - 0s 7ms/step - loss: 0.0224 - val_loss: 0.0286\n",
            "Epoch 12/80\n",
            "3/3 [==============================] - 0s 8ms/step - loss: 0.0221 - val_loss: 0.0250\n",
            "Epoch 13/80\n",
            "3/3 [==============================] - 0s 7ms/step - loss: 0.0225 - val_loss: 0.0234\n",
            "Epoch 14/80\n",
            "3/3 [==============================] - 0s 7ms/step - loss: 0.0210 - val_loss: 0.0228\n",
            "Epoch 15/80\n",
            "3/3 [==============================] - 0s 7ms/step - loss: 0.0202 - val_loss: 0.0250\n",
            "Epoch 16/80\n",
            "3/3 [==============================] - 0s 7ms/step - loss: 0.0200 - val_loss: 0.0227\n",
            "Epoch 17/80\n",
            "3/3 [==============================] - 0s 9ms/step - loss: 0.0209 - val_loss: 0.0207\n",
            "Epoch 18/80\n",
            "3/3 [==============================] - 0s 7ms/step - loss: 0.0193 - val_loss: 0.0204\n",
            "Epoch 19/80\n",
            "3/3 [==============================] - 0s 7ms/step - loss: 0.0194 - val_loss: 0.0200\n",
            "Epoch 20/80\n",
            "3/3 [==============================] - 0s 8ms/step - loss: 0.0191 - val_loss: 0.0198\n",
            "Epoch 21/80\n",
            "3/3 [==============================] - 0s 8ms/step - loss: 0.0204 - val_loss: 0.0193\n",
            "Epoch 22/80\n",
            "3/3 [==============================] - 0s 7ms/step - loss: 0.0191 - val_loss: 0.0196\n",
            "Epoch 23/80\n",
            "3/3 [==============================] - 0s 7ms/step - loss: 0.0163 - val_loss: 0.0210\n",
            "Epoch 24/80\n",
            "3/3 [==============================] - 0s 8ms/step - loss: 0.0168 - val_loss: 0.0209\n",
            "Epoch 25/80\n",
            "3/3 [==============================] - 0s 7ms/step - loss: 0.0170 - val_loss: 0.0192\n",
            "Epoch 26/80\n",
            "3/3 [==============================] - 0s 7ms/step - loss: 0.0176 - val_loss: 0.0183\n",
            "Epoch 27/80\n",
            "3/3 [==============================] - 0s 7ms/step - loss: 0.0184 - val_loss: 0.0180\n",
            "Epoch 28/80\n",
            "3/3 [==============================] - 0s 7ms/step - loss: 0.0155 - val_loss: 0.0183\n",
            "Epoch 29/80\n",
            "3/3 [==============================] - 0s 7ms/step - loss: 0.0148 - val_loss: 0.0189\n",
            "Epoch 30/80\n",
            "3/3 [==============================] - 0s 9ms/step - loss: 0.0158 - val_loss: 0.0174\n",
            "Epoch 31/80\n",
            "3/3 [==============================] - 0s 7ms/step - loss: 0.0154 - val_loss: 0.0172\n",
            "Epoch 32/80\n",
            "3/3 [==============================] - 0s 7ms/step - loss: 0.0154 - val_loss: 0.0170\n",
            "Epoch 33/80\n",
            "3/3 [==============================] - 0s 7ms/step - loss: 0.0153 - val_loss: 0.0170\n",
            "Epoch 34/80\n",
            "3/3 [==============================] - 0s 7ms/step - loss: 0.0154 - val_loss: 0.0168\n",
            "Epoch 35/80\n",
            "3/3 [==============================] - 0s 7ms/step - loss: 0.0147 - val_loss: 0.0168\n",
            "Epoch 36/80\n",
            "3/3 [==============================] - 0s 6ms/step - loss: 0.0147 - val_loss: 0.0170\n",
            "Epoch 37/80\n",
            "3/3 [==============================] - 0s 7ms/step - loss: 0.0148 - val_loss: 0.0168\n",
            "Epoch 38/80\n",
            "3/3 [==============================] - 0s 7ms/step - loss: 0.0165 - val_loss: 0.0172\n",
            "Epoch 39/80\n",
            "3/3 [==============================] - 0s 8ms/step - loss: 0.0161 - val_loss: 0.0181\n",
            "Epoch 40/80\n",
            "3/3 [==============================] - 0s 8ms/step - loss: 0.0155 - val_loss: 0.0188\n",
            "Epoch 41/80\n",
            "3/3 [==============================] - 0s 7ms/step - loss: 0.0160 - val_loss: 0.0174\n",
            "Epoch 42/80\n",
            "3/3 [==============================] - 0s 7ms/step - loss: 0.0161 - val_loss: 0.0173\n",
            "Epoch 43/80\n",
            "3/3 [==============================] - 0s 9ms/step - loss: 0.0153 - val_loss: 0.0165\n",
            "Epoch 44/80\n",
            "3/3 [==============================] - 0s 6ms/step - loss: 0.0139 - val_loss: 0.0165\n",
            "Epoch 45/80\n",
            "3/3 [==============================] - 0s 6ms/step - loss: 0.0141 - val_loss: 0.0164\n",
            "Epoch 46/80\n",
            "3/3 [==============================] - 0s 7ms/step - loss: 0.0141 - val_loss: 0.0166\n",
            "Epoch 47/80\n",
            "3/3 [==============================] - 0s 7ms/step - loss: 0.0143 - val_loss: 0.0165\n",
            "Epoch 48/80\n",
            "3/3 [==============================] - 0s 7ms/step - loss: 0.0152 - val_loss: 0.0173\n",
            "Epoch 49/80\n",
            "3/3 [==============================] - 0s 6ms/step - loss: 0.0167 - val_loss: 0.0183\n",
            "Epoch 50/80\n",
            "3/3 [==============================] - 0s 7ms/step - loss: 0.0159 - val_loss: 0.0163\n",
            "Epoch 51/80\n",
            "3/3 [==============================] - 0s 7ms/step - loss: 0.0147 - val_loss: 0.0164\n",
            "Epoch 52/80\n",
            "3/3 [==============================] - 0s 7ms/step - loss: 0.0152 - val_loss: 0.0165\n",
            "Epoch 53/80\n",
            "3/3 [==============================] - 0s 6ms/step - loss: 0.0147 - val_loss: 0.0164\n",
            "Epoch 54/80\n",
            "3/3 [==============================] - 0s 7ms/step - loss: 0.0141 - val_loss: 0.0162\n",
            "Epoch 55/80\n",
            "3/3 [==============================] - 0s 8ms/step - loss: 0.0141 - val_loss: 0.0168\n",
            "Epoch 56/80\n",
            "3/3 [==============================] - 0s 8ms/step - loss: 0.0155 - val_loss: 0.0164\n",
            "Epoch 57/80\n",
            "3/3 [==============================] - 0s 8ms/step - loss: 0.0152 - val_loss: 0.0166\n",
            "Epoch 58/80\n",
            "3/3 [==============================] - 0s 7ms/step - loss: 0.0147 - val_loss: 0.0164\n",
            "Epoch 59/80\n",
            "3/3 [==============================] - 0s 7ms/step - loss: 0.0176 - val_loss: 0.0177\n",
            "Epoch 60/80\n",
            "3/3 [==============================] - 0s 7ms/step - loss: 0.0198 - val_loss: 0.0233\n",
            "Epoch 61/80\n",
            "3/3 [==============================] - 0s 7ms/step - loss: 0.0186 - val_loss: 0.0205\n",
            "Epoch 62/80\n",
            "3/3 [==============================] - 0s 6ms/step - loss: 0.0176 - val_loss: 0.0199\n",
            "Epoch 63/80\n",
            "3/3 [==============================] - 0s 7ms/step - loss: 0.0179 - val_loss: 0.0191\n",
            "Epoch 64/80\n",
            "3/3 [==============================] - 0s 7ms/step - loss: 0.0167 - val_loss: 0.0218\n",
            "Epoch 65/80\n",
            "3/3 [==============================] - 0s 6ms/step - loss: 0.0173 - val_loss: 0.0241\n",
            "Epoch 66/80\n",
            "3/3 [==============================] - 0s 7ms/step - loss: 0.0183 - val_loss: 0.0239\n",
            "Epoch 67/80\n",
            "3/3 [==============================] - 0s 9ms/step - loss: 0.0182 - val_loss: 0.0257\n",
            "Epoch 68/80\n",
            "3/3 [==============================] - 0s 7ms/step - loss: 0.0202 - val_loss: 0.0184\n",
            "Epoch 69/80\n",
            "3/3 [==============================] - 0s 8ms/step - loss: 0.0145 - val_loss: 0.0183\n",
            "Epoch 70/80\n",
            "3/3 [==============================] - 0s 6ms/step - loss: 0.0171 - val_loss: 0.0163\n",
            "Epoch 71/80\n",
            "3/3 [==============================] - 0s 7ms/step - loss: 0.0156 - val_loss: 0.0163\n",
            "Epoch 72/80\n",
            "3/3 [==============================] - 0s 7ms/step - loss: 0.0166 - val_loss: 0.0191\n",
            "Epoch 73/80\n",
            "3/3 [==============================] - 0s 6ms/step - loss: 0.0164 - val_loss: 0.0182\n",
            "Epoch 74/80\n",
            "3/3 [==============================] - 0s 6ms/step - loss: 0.0157 - val_loss: 0.0194\n",
            "Epoch 75/80\n",
            "3/3 [==============================] - 0s 7ms/step - loss: 0.0147 - val_loss: 0.0203\n",
            "Epoch 76/80\n",
            "3/3 [==============================] - 0s 6ms/step - loss: 0.0168 - val_loss: 0.0199\n",
            "Epoch 77/80\n",
            "3/3 [==============================] - 0s 6ms/step - loss: 0.0163 - val_loss: 0.0188\n",
            "Epoch 78/80\n",
            "3/3 [==============================] - 0s 7ms/step - loss: 0.0140 - val_loss: 0.0189\n",
            "Epoch 79/80\n",
            "3/3 [==============================] - 0s 7ms/step - loss: 0.0149 - val_loss: 0.0182\n",
            "Epoch 80/80\n",
            "3/3 [==============================] - 0s 7ms/step - loss: 0.0152 - val_loss: 0.0200\n"
          ],
          "name": "stdout"
        }
      ]
    },
    {
      "cell_type": "code",
      "metadata": {
        "colab": {
          "base_uri": "https://localhost:8080/",
          "height": 283
        },
        "id": "uV_lbB-qA7qh",
        "outputId": "8584c23b-fa3e-4b4a-a75d-69bc778baf9f"
      },
      "source": [
        "#accuracy is calculated in classification problems\n",
        "\n",
        "plt.plot(r.history['loss'],label='loss')\n",
        "plt.plot(r.history['val_loss'],label='val_loss')\n",
        "plt.legend()"
      ],
      "execution_count": null,
      "outputs": [
        {
          "output_type": "execute_result",
          "data": {
            "text/plain": [
              "<matplotlib.legend.Legend at 0x7fc3dc277390>"
            ]
          },
          "metadata": {
            "tags": []
          },
          "execution_count": 47
        },
        {
          "output_type": "display_data",
          "data": {
            "image/png": "[encoded data removed]",
            "text/plain": [
              "<Figure size 432x288 with 1 Axes>"
            ]
          },
          "metadata": {
            "tags": [],
            "needs_background": "light"
          }
        }
      ]
    },
    {
      "cell_type": "code",
      "metadata": {
        "id": "flBk2YQdBGrF"
      },
      "source": [
        "# \"Wrong\" forecast using true targets\n",
        "\n",
        "validation_target = Y[-N//2:]\n",
        "validation_predictions = []\n",
        "\n",
        "# index of first validation input\n",
        "i = -N//2\n",
        "\n",
        "while len(validation_predictions) < len(validation_target):\n",
        "  p = model.predict(X[i].reshape(1, -1))[0,0] # 1x1 array -> scalar\n",
        "  i += 1\n",
        "  \n",
        "  # update the predictions list\n",
        "  validation_predictions.append(p)"
      ],
      "execution_count": null,
      "outputs": []
    },
    {
      "cell_type": "code",
      "metadata": {
        "id": "2ZUy-nRHB7BN"
      },
      "source": [
        "# Forecast future values (use only self-predictions for making future predictions)\n",
        "\n",
        "validation_target = Y[-N//2:]\n",
        "validation_predictions = []\n",
        "\n",
        "# first validation input\n",
        "last_x = X[-N//2] # 1-D array of length T\n",
        "\n",
        "while len(validation_predictions) < len(validation_target):\n",
        "  p = model.predict(last_x.reshape(1, -1))[0,0] # 1x1 array -> scalar\n",
        "  \n",
        "  # update the predictions list\n",
        "  validation_predictions.append(p)\n",
        "  \n",
        "  # make the new input\n",
        "  last_x = np.roll(last_x, -1)\n",
        "  last_x[-1] = p"
      ],
      "execution_count": null,
      "outputs": []
    }
  ]
}